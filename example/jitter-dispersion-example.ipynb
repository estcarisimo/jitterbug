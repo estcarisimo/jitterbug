{
 "cells": [
  {
   "cell_type": "code",
   "execution_count": 1,
   "metadata": {},
   "outputs": [],
   "source": [
    "from datetime import datetime\n",
    "\n",
    "import numpy as np\n",
    "import pandas as pd\n",
    "import matplotlib.pyplot as plt"
   ]
  },
  {
   "cell_type": "code",
   "execution_count": 2,
   "metadata": {},
   "outputs": [
    {
     "data": {
      "text/html": [
       "<div>\n",
       "<style scoped>\n",
       "    .dataframe tbody tr th:only-of-type {\n",
       "        vertical-align: middle;\n",
       "    }\n",
       "\n",
       "    .dataframe tbody tr th {\n",
       "        vertical-align: top;\n",
       "    }\n",
       "\n",
       "    .dataframe thead th {\n",
       "        text-align: right;\n",
       "    }\n",
       "</style>\n",
       "<table border=\"1\" class=\"dataframe\">\n",
       "  <thead>\n",
       "    <tr style=\"text-align: right;\">\n",
       "      <th></th>\n",
       "      <th>epoch</th>\n",
       "      <th>values</th>\n",
       "    </tr>\n",
       "  </thead>\n",
       "  <tbody>\n",
       "    <tr>\n",
       "      <th>0</th>\n",
       "      <td>1.512144e+09</td>\n",
       "      <td>63.86</td>\n",
       "    </tr>\n",
       "    <tr>\n",
       "      <th>1</th>\n",
       "      <td>1.512144e+09</td>\n",
       "      <td>66.52</td>\n",
       "    </tr>\n",
       "    <tr>\n",
       "      <th>2</th>\n",
       "      <td>1.512144e+09</td>\n",
       "      <td>72.09</td>\n",
       "    </tr>\n",
       "    <tr>\n",
       "      <th>3</th>\n",
       "      <td>1.512144e+09</td>\n",
       "      <td>85.20</td>\n",
       "    </tr>\n",
       "    <tr>\n",
       "      <th>4</th>\n",
       "      <td>1.512144e+09</td>\n",
       "      <td>89.08</td>\n",
       "    </tr>\n",
       "  </tbody>\n",
       "</table>\n",
       "</div>"
      ],
      "text/plain": [
       "          epoch  values\n",
       "0  1.512144e+09   63.86\n",
       "1  1.512144e+09   66.52\n",
       "2  1.512144e+09   72.09\n",
       "3  1.512144e+09   85.20\n",
       "4  1.512144e+09   89.08"
      ]
     },
     "execution_count": 2,
     "metadata": {},
     "output_type": "execute_result"
    }
   ],
   "source": [
    "raw = pd.read_csv(\"data/congestion-measurements/raw.csv\")\n",
    "raw.head()"
   ]
  },
  {
   "cell_type": "code",
   "execution_count": 3,
   "metadata": {},
   "outputs": [
    {
     "data": {
      "text/html": [
       "<div>\n",
       "<style scoped>\n",
       "    .dataframe tbody tr th:only-of-type {\n",
       "        vertical-align: middle;\n",
       "    }\n",
       "\n",
       "    .dataframe tbody tr th {\n",
       "        vertical-align: top;\n",
       "    }\n",
       "\n",
       "    .dataframe thead th {\n",
       "        text-align: right;\n",
       "    }\n",
       "</style>\n",
       "<table border=\"1\" class=\"dataframe\">\n",
       "  <thead>\n",
       "    <tr style=\"text-align: right;\">\n",
       "      <th></th>\n",
       "      <th>epoch</th>\n",
       "      <th>values</th>\n",
       "    </tr>\n",
       "  </thead>\n",
       "  <tbody>\n",
       "    <tr>\n",
       "      <th>0</th>\n",
       "      <td>1.512144e+09</td>\n",
       "      <td>42.85</td>\n",
       "    </tr>\n",
       "    <tr>\n",
       "      <th>1</th>\n",
       "      <td>1.512145e+09</td>\n",
       "      <td>18.82</td>\n",
       "    </tr>\n",
       "    <tr>\n",
       "      <th>2</th>\n",
       "      <td>1.512146e+09</td>\n",
       "      <td>28.53</td>\n",
       "    </tr>\n",
       "    <tr>\n",
       "      <th>3</th>\n",
       "      <td>1.512147e+09</td>\n",
       "      <td>38.89</td>\n",
       "    </tr>\n",
       "    <tr>\n",
       "      <th>4</th>\n",
       "      <td>1.512148e+09</td>\n",
       "      <td>34.83</td>\n",
       "    </tr>\n",
       "  </tbody>\n",
       "</table>\n",
       "</div>"
      ],
      "text/plain": [
       "          epoch  values\n",
       "0  1.512144e+09   42.85\n",
       "1  1.512145e+09   18.82\n",
       "2  1.512146e+09   28.53\n",
       "3  1.512147e+09   38.89\n",
       "4  1.512148e+09   34.83"
      ]
     },
     "execution_count": 3,
     "metadata": {},
     "output_type": "execute_result"
    }
   ],
   "source": [
    "mins = pd.read_csv(\"data/congestion-measurements/mins.csv\")\n",
    "mins.head()"
   ]
  },
  {
   "cell_type": "code",
   "execution_count": 4,
   "metadata": {},
   "outputs": [
    {
     "data": {
      "text/html": [
       "<div>\n",
       "<style scoped>\n",
       "    .dataframe tbody tr th:only-of-type {\n",
       "        vertical-align: middle;\n",
       "    }\n",
       "\n",
       "    .dataframe tbody tr th {\n",
       "        vertical-align: top;\n",
       "    }\n",
       "\n",
       "    .dataframe thead th {\n",
       "        text-align: right;\n",
       "    }\n",
       "</style>\n",
       "<table border=\"1\" class=\"dataframe\">\n",
       "  <thead>\n",
       "    <tr style=\"text-align: right;\">\n",
       "      <th></th>\n",
       "      <th>starts</th>\n",
       "      <th>ends</th>\n",
       "      <th>congestion</th>\n",
       "    </tr>\n",
       "  </thead>\n",
       "  <tbody>\n",
       "    <tr>\n",
       "      <th>0</th>\n",
       "      <td>1.512219e+09</td>\n",
       "      <td>1.512244e+09</td>\n",
       "      <td>1.0</td>\n",
       "    </tr>\n",
       "    <tr>\n",
       "      <th>1</th>\n",
       "      <td>1.512244e+09</td>\n",
       "      <td>1.512302e+09</td>\n",
       "      <td>0.0</td>\n",
       "    </tr>\n",
       "    <tr>\n",
       "      <th>2</th>\n",
       "      <td>1.512302e+09</td>\n",
       "      <td>1.512328e+09</td>\n",
       "      <td>1.0</td>\n",
       "    </tr>\n",
       "    <tr>\n",
       "      <th>3</th>\n",
       "      <td>1.512328e+09</td>\n",
       "      <td>1.512392e+09</td>\n",
       "      <td>0.0</td>\n",
       "    </tr>\n",
       "    <tr>\n",
       "      <th>4</th>\n",
       "      <td>1.512392e+09</td>\n",
       "      <td>1.512413e+09</td>\n",
       "      <td>1.0</td>\n",
       "    </tr>\n",
       "  </tbody>\n",
       "</table>\n",
       "</div>"
      ],
      "text/plain": [
       "         starts          ends  congestion\n",
       "0  1.512219e+09  1.512244e+09         1.0\n",
       "1  1.512244e+09  1.512302e+09         0.0\n",
       "2  1.512302e+09  1.512328e+09         1.0\n",
       "3  1.512328e+09  1.512392e+09         0.0\n",
       "4  1.512392e+09  1.512413e+09         1.0"
      ]
     },
     "execution_count": 4,
     "metadata": {},
     "output_type": "execute_result"
    }
   ],
   "source": [
    "inferences = pd.read_csv(\"data/congestion-inferences/jd_inferences.csv\")\n",
    "inferences.head()"
   ]
  },
  {
   "cell_type": "code",
   "execution_count": 5,
   "metadata": {},
   "outputs": [],
   "source": [
    "def epoch2datetime(t):\n",
    "    return datetime.utcfromtimestamp(t)"
   ]
  },
  {
   "cell_type": "code",
   "execution_count": 9,
   "metadata": {},
   "outputs": [],
   "source": [
    "starts = inferences[\"starts\"].map(epoch2datetime)\n",
    "ends = inferences[\"ends\"].map(epoch2datetime)\n",
    "\n",
    "viz_congestion_dt = [None]*(len(starts) + len(ends))\n",
    "viz_congestion_dt[::2] = list(starts)\n",
    "viz_congestion_dt[1::2] = list(ends)\n",
    "\n",
    "viz_congestion_inferences = np.repeat(inferences[\"congestion\"].values, 2)"
   ]
  },
  {
   "cell_type": "code",
   "execution_count": 14,
   "metadata": {},
   "outputs": [
    {
     "data": {
      "image/png": "[encoded data removed]",
      "text/plain": [
       "<Figure size 1296x432 with 3 Axes>"
      ]
     },
     "metadata": {
      "needs_background": "light"
     },
     "output_type": "display_data"
    }
   ],
   "source": [
    "N = 3\n",
    "\n",
    "fig, ax = plt.subplots(N, figsize=(18, 6), sharex=True)\n",
    "\n",
    "for i in range(N):\n",
    "    ax[i].yaxis.grid(True, linestyle='-', color='#bababa', alpha=0.5, which='both')\n",
    "    ax[i].xaxis.grid(True, linestyle='-', color='#bababa', alpha=0.5, which='both')\n",
    "\n",
    "ax[0].plot_date(\n",
    "    raw[\"epoch\"].map(epoch2datetime), \n",
    "    raw[\"values\"],\n",
    "    xdate=True, \n",
    "    ydate=False,\n",
    "    label=\"RTT\", \n",
    "    tz=\"UTC\", \n",
    "    alpha=0.75, \n",
    "    lw=4,\n",
    "    linestyle='solid', \n",
    "    marker='None', \n",
    "    color=\"C0\"\n",
    ")\n",
    "\n",
    "ax[1].plot_date(\n",
    "    mins[\"epoch\"].map(epoch2datetime), \n",
    "    mins[\"values\"],\n",
    "    xdate=True, \n",
    "    ydate=False,\n",
    "    label=\"min(RTT)\", \n",
    "    tz=\"UTC\", \n",
    "    alpha=0.75, \n",
    "    lw=4,\n",
    "    linestyle='solid', \n",
    "    marker='None', \n",
    "    color=\"C1\"\n",
    ")\n",
    "\n",
    "ax[2].plot_date(\n",
    "    viz_congestion_dt,\n",
    "    viz_congestion_inferences,\n",
    "    xdate=True, \n",
    "    ydate=False,\n",
    "    label=\"Cong. Inferences\", \n",
    "    tz=\"UTC\", \n",
    "    alpha=0.75, \n",
    "    lw=4,\n",
    "    linestyle='solid', \n",
    "    marker='None', \n",
    "    color=\"red\"\n",
    ")\n",
    "\n",
    "\n",
    "for i in range(N):\n",
    "    ax[i].tick_params(labelsize=20)\n",
    "    ax[i].legend(loc='upper right', ncol=1, frameon=True, fontsize=20,\n",
    "                 handletextpad=0.1, columnspacing=0.1, handlelength=0.25)"
   ]
  },
  {
   "cell_type": "code",
   "execution_count": null,
   "metadata": {},
   "outputs": [],
   "source": []
  }
 ],
 "metadata": {
  "kernelspec": {
   "display_name": ".jitterbug",
   "language": "python",
   "name": ".jitterbug"
  },
  "language_info": {
   "codemirror_mode": {
    "name": "ipython",
    "version": 3
   },
   "file_extension": ".py",
   "mimetype": "text/x-python",
   "name": "python",
   "nbconvert_exporter": "python",
   "pygments_lexer": "ipython3",
   "version": "3.6.9"
  }
 },
 "nbformat": 4,
 "nbformat_minor": 2
}
